{
 "cells": [
  {
   "cell_type": "code",
   "execution_count": null,
   "id": "dc460355",
   "metadata": {},
   "outputs": [],
   "source": [
    "#-------------------------------------------------Level 1-------------------------------------------------------------"
   ]
  },
  {
   "cell_type": "code",
   "execution_count": 19,
   "id": "bacff3ae",
   "metadata": {},
   "outputs": [
    {
     "name": "stdout",
     "output_type": "stream",
     "text": [
      "Enter a number12\n",
      "Consultadd\n"
     ]
    }
   ],
   "source": [
    "#1. Write a program in Python to perform the following operation:\n",
    "    # If a number is divisible by 3 it should print “Consultadd” as a string\n",
    "    # If a number is divisible by 5 it should print “Python Training” as a string\n",
    "    # If a number is divisible by both 3 and 5 it should print “Consultadd - Python Training” as a string.\n",
    "\n",
    "def func(num):\n",
    "     if(num%3==0 and num%5==0):\n",
    "        print(\"Consultadd - Python Training\")\n",
    "     elif (num%3==0):\n",
    "        print(\"Consultadd\")\n",
    "     elif (num%5==0):\n",
    "        print(\"Python Training\")\n",
    "     else:\n",
    "         print(num)\n",
    "        \n",
    "num = int(input(\"Enter a number\"))\n",
    "f= func(num)"
   ]
  },
  {
   "cell_type": "code",
   "execution_count": 32,
   "id": "22328317",
   "metadata": {},
   "outputs": [
    {
     "name": "stdout",
     "output_type": "stream",
     "text": [
      "Enter a string: Hello123\n",
      "Number:  3  Alphabets:  5\n"
     ]
    }
   ],
   "source": [
    "#2. Write a program that accepts a string as input from the user and calculates the number of digits and letters.\n",
    "    #Input: Hello123\n",
    "    #Output: Alphabets: 5 & Number : 3\n",
    "    \n",
    "def func(string1):\n",
    "    alpha=0\n",
    "    numbers=0\n",
    "    #char1 = [char for char in string1]\n",
    "    for i in string1:\n",
    "        if((i>='A' and i<='Z') | (i>='a' and i<='z')):\n",
    "            alpha+=1\n",
    "        elif(i>='0' or i<='9'):\n",
    "            numbers+=1\n",
    "    return {'alph': alpha, 'numbers':numbers}\n",
    "\n",
    "string1 = input(\"Enter a string: \")\n",
    "result = func(string1)\n",
    "print(\"Number: \", result['numbers'], \" Alphabets: \", result['alph'])"
   ]
  },
  {
   "cell_type": "code",
   "execution_count": 45,
   "id": "98854817",
   "metadata": {},
   "outputs": [
    {
     "name": "stdout",
     "output_type": "stream",
     "text": [
      "Enter the score for Physics80\n",
      "Enter the score for Chemistry80\n",
      "Enter the score for Biology82\n",
      "Enter the score for Maths79\n",
      "Enter the score for Computer95\n",
      "Percentage obtained:  83.2 Grade obtained:  B\n"
     ]
    }
   ],
   "source": [
    "#3. Write a Python program to input marks for five subjects Physics,Chemistry, Biology, Mathematics, and Computer. \n",
    "#Calculate the percentage and grade according to the following:\n",
    "#   Percentage >= 90% : Grade A\n",
    "#   Percentage >= 80% : Grade B\n",
    "#   Percentage >= 70% : Grade C\n",
    "#   Percentage >= 60% : Grade D\n",
    "#   Percentage >= 40% : Grade E\n",
    "#   Percentage <  40% : Grade F\n",
    "\n",
    "def calculate_percentage(total_marks):\n",
    "    maximum_marks = 500 \n",
    "    percentage_ = (total_marks/maximum_marks)*100\n",
    "    return percentage_\n",
    "\n",
    "def calculate_grade(percentage):\n",
    "      if percentage >= 90:\n",
    "        return 'A'\n",
    "      elif percentage >= 80:\n",
    "        return 'B'\n",
    "      elif percentage >= 70:\n",
    "        return 'C'\n",
    "      elif percentage >= 60:\n",
    "        return 'D'\n",
    "      elif percentage >= 40:\n",
    "        return 'E'\n",
    "      else:\n",
    "        return 'F'\n",
    "    \n",
    "physics = int(input(\"Enter the score for Physics\"))\n",
    "chemistry = int(input(\"Enter the score for Chemistry\"))\n",
    "biology = int(input(\"Enter the score for Biology\"))\n",
    "maths = int(input(\"Enter the score for Maths\"))\n",
    "computer = int(input(\"Enter the score for Computer\"))\n",
    "\n",
    "total_marks = physics+chemistry+biology+maths+computer #Calculating the total marks obtained from each subjects\n",
    "\n",
    "percentage = calculate_percentage(total_marks)\n",
    "grades = calculate_grade(percentage)\n",
    "\n",
    "print(\"Percentage obtained: \",percentage, \"Grade obtained: \",grades)"
   ]
  },
  {
   "cell_type": "code",
   "execution_count": 47,
   "id": "3efa7fc6",
   "metadata": {},
   "outputs": [
    {
     "name": "stdout",
     "output_type": "stream",
     "text": [
      "Enter the start value1\n",
      "Enter the stop value10\n",
      "The sums of odd numbers:  25\n"
     ]
    }
   ],
   "source": [
    "#4. Write a Python program to find the sum of all odd numbers between two given numbers.\n",
    "    # Start = 1, stop = 10\n",
    "    # Sum of odd numbers: 25\n",
    "    \n",
    "start = int(input(\"Enter the start value\"))\n",
    "stop = int(input(\"Enter the stop value\"))\n",
    "sums=0\n",
    "for i in range(start, stop):\n",
    "    if i%2!=0:\n",
    "        sums+=i\n",
    "print(\"The sums of odd numbers: \", sums)"
   ]
  },
  {
   "cell_type": "code",
   "execution_count": 53,
   "id": "5cd84fd6",
   "metadata": {},
   "outputs": [
    {
     "name": "stdout",
     "output_type": "stream",
     "text": [
      "Enter a number6\n",
      "Factorial of  6 is 720\n"
     ]
    }
   ],
   "source": [
    "# 5. Write a Python program to find the factorial of a number using a for loop.\n",
    "\n",
    "def factorial(num):\n",
    "    f=1\n",
    "    for i in range(0,(num+1)):\n",
    "        if i<=1:\n",
    "            f =f*1\n",
    "        else:\n",
    "            f=i*f\n",
    "    return f\n",
    "    \n",
    "num = int(input(\"Enter a number\"))\n",
    "print(\"Factorial of \",num,\"is\",factorial(num))"
   ]
  },
  {
   "cell_type": "code",
   "execution_count": 5,
   "id": "7d27bb7b",
   "metadata": {},
   "outputs": [
    {
     "name": "stdout",
     "output_type": "stream",
     "text": [
      "Enter a number28\n",
      "Yes\n"
     ]
    }
   ],
   "source": [
    "#6. Write a Python program to check if a given number is a perfect number.\n",
    "#  A Perfect number is a positive integer that is equal to the sum of its proper divisors. \n",
    "#  For instance, 6 has divisors 1, 2, and 3, and 1 + 2 +3 = 6, so 6 is a perfect number.\n",
    "   #Input: 5\n",
    "   #Output: No\n",
    "\n",
    "def perfect(num):\n",
    "    \n",
    "    divisors=[]\n",
    "    for i in range(1,num):\n",
    "        if(num%i==0):\n",
    "            divisors.append(i)\n",
    "    sums = sum(divisors)\n",
    "    if sums==num:\n",
    "        return \"Yes\"\n",
    "    else:\n",
    "        return \"No\"\n",
    "        \n",
    "    \n",
    "            \n",
    "num = int(input(\"Enter a number\"))\n",
    "print(perfect(num))"
   ]
  },
  {
   "cell_type": "code",
   "execution_count": 22,
   "id": "5442877a",
   "metadata": {},
   "outputs": [
    {
     "name": "stdout",
     "output_type": "stream",
     "text": [
      "Enter the first stringsilent\n",
      "Enter the second stringlisten\n",
      "True\n"
     ]
    }
   ],
   "source": [
    "#7. Write a Python program to check if a string is an anagram of another string.\n",
    "   # string1 = \"listen\", string2 = \"silent\"\n",
    "   #Output: True\n",
    "\n",
    "def anag(user_string1,user_string2):\n",
    "    char_string1 = [char for char in user_string1]\n",
    "    char_string2 = [char for char in user_string2]\n",
    "\n",
    "    sort_string1 = sorted(char_string1)\n",
    "    #print(sort_string1)\n",
    "    sort_string2 = sorted(char_string2)\n",
    "    #print(sort_string2)\n",
    "\n",
    "    if(sort_string1==sort_string2):\n",
    "        return True\n",
    "    else:\n",
    "        return False\n",
    "\n",
    "string1 = input(\"Enter the first string\")\n",
    "string2 = input(\"Enter the second string\")\n",
    "print(anag(string1,string2))\n"
   ]
  },
  {
   "cell_type": "code",
   "execution_count": 45,
   "id": "763f89e8",
   "metadata": {},
   "outputs": [
    {
     "name": "stdout",
     "output_type": "stream",
     "text": [
      "LCM =  36\n"
     ]
    }
   ],
   "source": [
    "#8. Write a Python program to calculate the LCM (Least Common Multiple) of two numbers.\n",
    "    #number1 = 12, number2 = 18\n",
    "    #LCM of 12 and 18 are: 36\n",
    "def lcm(a, b):\n",
    "    if a > b:\n",
    "        greater = a\n",
    "    else:\n",
    "        greater = b\n",
    "    while(True):\n",
    "        if((greater % a == 0) and (greater % b == 0)):\n",
    "            lcm = greater\n",
    "            break\n",
    "        greater += 1\n",
    "    return lcm\n",
    "\n",
    "\n",
    "\n",
    "print(\"LCM = \", lcm(12, 18))\n"
   ]
  },
  {
   "cell_type": "code",
   "execution_count": 16,
   "id": "490ab82f",
   "metadata": {},
   "outputs": [
    {
     "name": "stdout",
     "output_type": "stream",
     "text": [
      "Enter the numbers with spaces1 2 3 1 2 3 5 3\n",
      "Input list: [1, 2, 3, 1, 2, 3, 5, 3]\n",
      "The frequency count:  {1: 2, 2: 2, 3: 3, 5: 1}\n"
     ]
    }
   ],
   "source": [
    "# 9. Write a Python program to count the frequency of each element in a list.\n",
    "     # Input_list = [1, 2, 3, 2, 4, 1, 2, 4, 5]\n",
    "     # Frequency count: {1: 2, 2: 3, 3: 1, 4: 2, 5: 1}\n",
    "        \n",
    "def freq(input_list):\n",
    "    freq_char = {}\n",
    "\n",
    "    for i in input_list:\n",
    "        if i in freq_char.keys():\n",
    "            freq_char[i]+=1\n",
    "        else:\n",
    "            freq_char[i] = 1\n",
    "    return freq_char\n",
    "\n",
    "\n",
    "input_string_list = input(\"Enter the numbers with spaces\")\n",
    "\n",
    "input_list = input_string_list.split()\n",
    "# Convert each element to integer\n",
    "input_list = [int(x) for x in input_list] #List comprehension to creat a list with integer values\n",
    "\n",
    "print(\"Input list:\", input_list)\n",
    "print(\"The frequency count: \", freq(input_list))"
   ]
  },
  {
   "cell_type": "code",
   "execution_count": 26,
   "id": "e1d8e60c",
   "metadata": {},
   "outputs": [
    {
     "name": "stdout",
     "output_type": "stream",
     "text": [
      "Enter the sentence“Hello, World! Welcome to Python programming.”\n",
      "Input Sentence:  “Hello, World! Welcome to Python programming.”\n",
      "Output after reverse =  programming.” Python to Welcome World! “Hello,\n"
     ]
    }
   ],
   "source": [
    "#  10. Write a Python program to reverse the order of words in a given sentence.\n",
    "    #  Input_sentence = “Hello, World! Welcome to Python programming.”\n",
    "    #  Output after reverse = “programming. Python to Welcome World! Hello,”\n",
    "    \n",
    "string1 = input(\"Enter the sentence\")\n",
    "list = string1.split()\n",
    "#print(list)\n",
    "string2 = list[::-1]\n",
    "#print(string2)\n",
    "output = ' '.join(string2)\n",
    "print(\"Input Sentence: \", string1)\n",
    "print(\"Output after reverse = \", output)"
   ]
  },
  {
   "cell_type": "code",
   "execution_count": 40,
   "id": "f63a63e8",
   "metadata": {},
   "outputs": [
    {
     "name": "stdout",
     "output_type": "stream",
     "text": [
      "Enter a number5543\n",
      "8\n"
     ]
    }
   ],
   "source": [
    "#  11. Write a Python program to calculate the sum of digits of a given number until the sum becomes a single-digit number.\n",
    "     # Sample Input: num = 987\n",
    "     # Sample Output: Sum_of_digits = 24,\n",
    "     # Again compute the sum of digits so that it can be reduced toon single digit.\n",
    "     # Final Output: 6\n",
    "        \n",
    "def sum_of_digit(num):\n",
    "    n=num\n",
    "    \n",
    "    while(n>=10):\n",
    "        sums=0\n",
    "        while(n>0):\n",
    "            temp = n%10\n",
    "            sums+=temp\n",
    "            n=n//10\n",
    "        n=sums\n",
    "    print(n)\n",
    "    \n",
    "        \n",
    "num = int(input(\"Enter a number\"))\n",
    "sum_of_digit(num)"
   ]
  },
  {
   "cell_type": "code",
   "execution_count": 45,
   "id": "5ef3cedf",
   "metadata": {},
   "outputs": [
    {
     "name": "stdout",
     "output_type": "stream",
     "text": [
      "Enter a number12345\n"
     ]
    },
    {
     "data": {
      "text/plain": [
       "54321"
      ]
     },
     "execution_count": 45,
     "metadata": {},
     "output_type": "execute_result"
    }
   ],
   "source": [
    "# 12. Write a Python program to reverse a number using a while loop.\n",
    "    #  Sample Input: num = 12345\n",
    "    #  Sample Output: revnum = 54321\n",
    "    \n",
    "def reverse_num(num):\n",
    "    sums = 0\n",
    "    while(num>0):\n",
    "            temp = num%10\n",
    "            sums =(sums*10)+temp\n",
    "            num=num//10\n",
    "    return sums\n",
    "    \n",
    "   \n",
    "num = int(input(\"Enter a number\"))\n",
    "reverse_num(num)"
   ]
  },
  {
   "cell_type": "code",
   "execution_count": null,
   "id": "0918cbbb",
   "metadata": {},
   "outputs": [],
   "source": [
    "#--------------------------------------------------Level 2--------------------------------------------------------------"
   ]
  },
  {
   "cell_type": "code",
   "execution_count": 46,
   "id": "a818edff",
   "metadata": {},
   "outputs": [
    {
     "name": "stdout",
     "output_type": "stream",
     "text": [
      "[4, 5]\n"
     ]
    }
   ],
   "source": [
    "#1. Write a Python program to find the common elements between two lists.\n",
    "      # Sample Input: l1 = [1, 2, 3, 4, 5] and l2 = [4, 5, 6, 7, 8]\n",
    "      # Sample output: [4, 5]\n",
    "        \n",
    "def common_numbers(list1, list2):\n",
    "    common_list=[]\n",
    "    for i in list1:\n",
    "        for j in list2:\n",
    "            if(i==j):\n",
    "                common_list.append(i)\n",
    "    return common_list\n",
    "\n",
    "list1 =  [1, 2, 3, 4, 5]\n",
    "list2 = [4, 5, 6, 7, 8]\n",
    "\n",
    "print(common_numbers(list1, list2))\n"
   ]
  },
  {
   "cell_type": "code",
   "execution_count": 59,
   "id": "702fb52d",
   "metadata": {},
   "outputs": [
    {
     "name": "stdout",
     "output_type": "stream",
     "text": [
      "Enter the list of numbers separated by space: 3 4 2 3 2\n",
      "[2, 3, 4]\n"
     ]
    }
   ],
   "source": [
    "# 2. Create a function that takes a list and returns a new list with unique elements of the first list.\n",
    "       # Sample Input: list1 = [1, 2, 2, 3, 4, 4, 5, 5]\n",
    "       # Sample Output: list2 = [1, 2, 3, 4, 5]\n",
    "\n",
    "def unique_elements(input_list):\n",
    "    unique_set = set(input_list)\n",
    "    unique_list = sorted(unique_set)\n",
    "    \n",
    "    return unique_list\n",
    "\n",
    "user_input = input(\"Enter the list of numbers separated by space: \")\n",
    "user_list= user_input.split()\n",
    "\n",
    "input_list = [int(i) for i in user_list]\n",
    "print(unique_elements(input_list))"
   ]
  },
  {
   "cell_type": "code",
   "execution_count": 72,
   "id": "404b25d2",
   "metadata": {},
   "outputs": [
    {
     "name": "stdout",
     "output_type": "stream",
     "text": [
      "Enter the list of numbers separated by space: 1 2 3 4 5\n",
      "Enter the value for k6\n",
      "Pair count:  2\n"
     ]
    }
   ],
   "source": [
    "#3. Given an array of N integers and an integer K, find the number of pairs of elements in the array whose sum is equal to K.\n",
    "       # Sample Input: arr = [1, 2, 3, 4, 5], k = 6\n",
    "       # Sample Output: Pair count: 2\n",
    "        \n",
    "def pair_sum(input_list,k):\n",
    "    \n",
    "    count=0\n",
    "    n=len(input_list)\n",
    "    for i in range(n):\n",
    "        for j in range(i+1,n):\n",
    "            sums = input_list[i]+input_list[j]\n",
    "            if sums  == k:\n",
    "                #print(input_list[i], \", \", input_list[j])\n",
    "\n",
    "                count+=1\n",
    "    return count\n",
    "                \n",
    "        \n",
    "user_input = input(\"Enter the list of numbers separated by space: \")\n",
    "k= int(input(\"Enter the value for k\"))\n",
    "user_list= user_input.split()\n",
    "\n",
    "input_list = [int(i) for i in user_list]\n",
    "\n",
    "print(\"Pair count: \",pair_sum(input_list,k))"
   ]
  },
  {
   "cell_type": "code",
   "execution_count": 82,
   "id": "b7c515d1",
   "metadata": {},
   "outputs": [
    {
     "name": "stdout",
     "output_type": "stream",
     "text": [
      "Enter the value k2\n",
      "[4, 5, 1, 2, 3]\n"
     ]
    }
   ],
   "source": [
    "#4. Given an array of size N. The task is to rotate array by D elements towards right\n",
    "    #  Sample Input: arr = [1, 2, 3, 4, 5], D = 2\n",
    "    #  Sample Output: arr after rotation = [4, 5, 1, 2, 3]\n",
    "    \n",
    "def rotate_array(input_1,k):\n",
    "  y=[]\n",
    "  for i in range(3):\n",
    "    for j in range(len(input_1)):\n",
    "        if j==0:\n",
    "            temp = input_1[0]\n",
    "        else:\n",
    "            y.append(input_1[j])\n",
    "    y.append(temp)\n",
    "    input_1=y\n",
    "    y=[]\n",
    "  return input_1\n",
    "   \n",
    "k = int(input(\"Enter the value k\"))  \n",
    "input_1 =  [1, 2, 3, 4, 5]\n",
    "print(rotate_array(input_1,k))\n"
   ]
  },
  {
   "cell_type": "code",
   "execution_count": 18,
   "id": "56d37a74",
   "metadata": {},
   "outputs": [
    {
     "name": "stdout",
     "output_type": "stream",
     "text": [
      "Enter the list of numbers separated by space: 25 28 21 24 27\n",
      "[21, 24, 25, 27, 28]\n",
      "Average Temperature:  25.0\n",
      "Highest Temparature:  28\n",
      "Lowest Temperature: 21\n"
     ]
    }
   ],
   "source": [
    "# 5. You are developing a program that analyzes weather data. Write a Python function that takes \n",
    "#    a list of temperature readings for a specific location and determines the average temperature, highest\n",
    "#    temperature, and lowest temperature.\n",
    "              #  Input: temperature_readings = [25, 28, 21, 24, 27]\n",
    "              #  Output:\n",
    "                         # Average Temperature: 25.0\n",
    "                         # Highest Temperature: 28\n",
    "                         # Lowest Temperature: 21\n",
    "\n",
    "def temparature(input_list):\n",
    "    \n",
    "    s_list = sorted(input_list)\n",
    "    print(s_list)\n",
    "    sums=0\n",
    "    n=len(input_list)\n",
    "    h_temparature = s_list[-1]\n",
    "    l_temparature = s_list[0]\n",
    "    avg_temp = sum(input_list)/n\n",
    "    \n",
    "    return h_temparature, l_temparature, avg_temp\n",
    "                    \n",
    "user_input = input(\"Enter the list of numbers separated by space: \")\n",
    "user_list= user_input.split()\n",
    "\n",
    "input_list = [int(i) for i in user_list]\n",
    "h_temp, l_temp, avg_temp = temparature(input_list)\n",
    "print(\"Average Temperature: \",avg_temp)\n",
    "print(\"Highest Temparature: \",h_temp)\n",
    "print(\"Lowest Temperature:\",l_temp)"
   ]
  },
  {
   "cell_type": "code",
   "execution_count": 6,
   "id": "2ea5865e",
   "metadata": {},
   "outputs": [
    {
     "name": "stdout",
     "output_type": "stream",
     "text": [
      "False\n"
     ]
    }
   ],
   "source": [
    "#6. Write a Python program to check if a number is a power of two using recursion.\n",
    "\n",
    "def power_two(num):\n",
    "\n",
    "    if num==1:\n",
    "        return True\n",
    "    elif (num%2!=0 or num==0):\n",
    "        return False\n",
    "    else:\n",
    "        return power_two(num//2)\n",
    "    \n",
    "print(power_two(127))"
   ]
  },
  {
   "cell_type": "code",
   "execution_count": 5,
   "id": "be55eb2b",
   "metadata": {},
   "outputs": [
    {
     "name": "stdout",
     "output_type": "stream",
     "text": [
      "Enter the list of numbers separated by space: 7 2 5 1 9 3\n",
      "4.0\n"
     ]
    }
   ],
   "source": [
    "# 7. Write a Python function that finds the median of a list of numbers.\n",
    "             # Sample Input: number_list = [7, 2, 5, 1, 9, 3]\n",
    "             # Sample Output: Median: 4.0\n",
    "        \n",
    "def medians(lists):\n",
    "    n = len(lists)\n",
    "    sort_list = sorted(lists)\n",
    "    \n",
    "    if(n%2!=0):\n",
    "        sort_list[n//2]\n",
    "        \n",
    "    elif(n%2==0):\n",
    "       med1 = sort_list[n//2-1]\n",
    "       med2 = sort_list[n//2]\n",
    "        \n",
    "       median = (med1+med2)/2\n",
    "    return median\n",
    "    \n",
    "user_input = input(\"Enter the list of numbers separated by space: \")\n",
    "int_list= user_input.split()\n",
    "\n",
    "lists = [int(i) for i in int_list]\n",
    "\n",
    "print(medians(lists))"
   ]
  },
  {
   "cell_type": "code",
   "execution_count": 5,
   "id": "c61089e8",
   "metadata": {},
   "outputs": [
    {
     "name": "stdout",
     "output_type": "stream",
     "text": [
      "Enter a string\"Hello, World!\"\n",
      "3\n"
     ]
    }
   ],
   "source": [
    "#8  Write a Python function that counts the number of vowels in a given string.\n",
    "        #  Sample Input: string = \"Hello, World!\"\n",
    "        #  Sample Output: Number of vowels: 3\n",
    "\n",
    "def vowels(string1):\n",
    "    string2 = string1.lower()\n",
    "    count=0\n",
    "    list1=[char for char in string2]\n",
    "    #print(list1)\n",
    "    for i in list1:\n",
    "        if (i=='a' or i=='e' or i=='i' or i=='o' or i=='u'):\n",
    "            count+=1\n",
    "            #print(i)\n",
    "\n",
    "    return count\n",
    "\n",
    "string1= input(\"Enter a string\")\n",
    "print(vowels(string1))"
   ]
  },
  {
   "cell_type": "code",
   "execution_count": null,
   "id": "e32b2b18",
   "metadata": {},
   "outputs": [],
   "source": [
    "# 9. Write a Python program that executes an operation on a list and handles\n",
    "#    an IndexError exception if the index is out of range."
   ]
  },
  {
   "cell_type": "code",
   "execution_count": 2,
   "id": "c6694dd6",
   "metadata": {},
   "outputs": [
    {
     "name": "stdout",
     "output_type": "stream",
     "text": [
      "1\n",
      "Exception Occured:  list index out of range\n",
      "Inside finally block\n"
     ]
    }
   ],
   "source": [
    "x=[2,3,1,4]\n",
    "\n",
    "try:\n",
    "    temp1 = x[2]\n",
    "    print(temp1)\n",
    "    temp = x[5]\n",
    "    print(temp)\n",
    "except Exception as e:\n",
    "    print(\"Exception Occured: \",e)\n",
    "    \n",
    "finally:\n",
    "    \n",
    "    print(\"Inside finally block\")"
   ]
  },
  {
   "cell_type": "code",
   "execution_count": 18,
   "id": "5574ba5b",
   "metadata": {},
   "outputs": [
    {
     "name": "stdout",
     "output_type": "stream",
     "text": [
      "Enter the value for n4\n",
      "[4, 6, 8, 10]\n"
     ]
    }
   ],
   "source": [
    "#10. We are making n stone piles! The first pile has n stones. \n",
    "#   If n is even, then all piles have an even number of stones. If n is odd, all piles have an odd number of stones. \n",
    "#   Each pile must have more stones than the previous pile but as few as possible. Write a Python program \n",
    "#   to find the number of stones in each pile.\n",
    "          #  Sample Input: n = 2\n",
    "          #  Sample Output: Stones in a single pile = [2, 4]\n",
    "        \n",
    "n=int(input(\"Enter the value for n\"))\n",
    "pile = []\n",
    "if n%2 ==0:\n",
    "    pile.append(n)\n",
    "    t=n\n",
    "    for i in range(0,t-1):\n",
    "        pile.append(n+2)\n",
    "        n=n+2\n",
    "    print(pile)\n",
    "else:\n",
    "    pile.append(n)\n",
    "    t=n\n",
    "    for i in range(0,t-1):\n",
    "        pile.append(n+2)\n",
    "        n=n+2\n",
    "    print(pile)"
   ]
  },
  {
   "cell_type": "code",
   "execution_count": 16,
   "id": "52d397c1",
   "metadata": {},
   "outputs": [],
   "source": []
  },
  {
   "cell_type": "code",
   "execution_count": 1,
   "id": "4ee727dd",
   "metadata": {},
   "outputs": [
    {
     "name": "stdout",
     "output_type": "stream",
     "text": [
      "[['R', 'e', 'd'], ['B', 'l', 'u', 'e'], ['B', 'l', 'a', 'c', 'k'], ['W', 'h', 'i', 't', 'e'], ['P', 'i', 'n', 'k']]\n"
     ]
    }
   ],
   "source": [
    "# 11. Write a Python program to create a list of given strings individually of the list using the Python map function.\n",
    "            # Eg. Input: ['Red', 'Blue', 'Black', 'White', 'Pink']\n",
    "            # Output: [['R', 'e', 'd'], ['B', 'l', 'u', 'e'], ['B', 'l', 'a', 'c', 'k'], ['W', 'h', 'i', 't', 'e'], ['P', 'i','n', 'k']]\n",
    "\n",
    "\n",
    "def individual_list(x):\n",
    "    #print(x)\n",
    "    y=[]\n",
    "    for i in x:\n",
    "      y.append(i)\n",
    "    return y\n",
    "      \n",
    "x = ['Red', 'Blue', 'Black', 'White', 'Pink']\n",
    "indiv_list= map(individual_list,x)\n",
    "print(list(indiv_list))"
   ]
  },
  {
   "cell_type": "code",
   "execution_count": 2,
   "id": "81b2f5c3",
   "metadata": {},
   "outputs": [
    {
     "name": "stdout",
     "output_type": "stream",
     "text": [
      "Enter the username: Reesa\n",
      "Enter the password: susan123\n",
      "Wrong Credentials\n",
      "Please re-enter the username: Kevin\n",
      "Enter the password: Ritty\n",
      "Wrong password. You have 2 more attempts.\n",
      "Please re-enter the username: John\n",
      "Enter the password: teetee\n",
      "Wrong password. You have 1 more attempts.\n",
      "You have exceeded the maximum number of attempts. Please try again after some time.\n"
     ]
    }
   ],
   "source": [
    "# 12. Create a login page backend to ask users to enter the username and password. Make sure to ask for a \n",
    "#     Re-Type Password and if the password is incorrect give a chance to enter it again but it should not \n",
    "#     be more than 3 times.\n",
    "\n",
    "\n",
    "class Details:\n",
    "    \n",
    "    def __init__(self, username, password):\n",
    "        self.username = username\n",
    "        self.password = password\n",
    "        \n",
    "database = {\n",
    "    'John': Details('John', 'abcd123'),\n",
    "    'Mathew': Details('Mathew', 'Mat321'),\n",
    "    'Peter': Details('Peter', 'Pet45')\n",
    "}\n",
    "\n",
    "def login_page():\n",
    "    \n",
    "    username = input(\"Enter the username: \")\n",
    "    password = input(\"Enter the password: \")\n",
    "    \n",
    "    user = database.get(username)\n",
    "    \n",
    "    if user and user.password == password:\n",
    "        print(\"Login Successful\")\n",
    "    else:\n",
    "        print(\"Wrong Credentials\")\n",
    "    \n",
    "        for i in range(2):\n",
    "            username = input(\"Please re-enter the username: \")\n",
    "            password = input(\"Enter the password: \")\n",
    "            \n",
    "            user = database.get(username)\n",
    "            \n",
    "            if user and user.password == password:\n",
    "                print(\"Login successful!\")\n",
    "                break\n",
    "            else:\n",
    "                print(\"Wrong password. You have\", 2 - i, \"more attempts.\")\n",
    "        else:\n",
    "            print(\"You have exceeded the maximum number of attempts. Please try again after some time.\")\n",
    "\n",
    "login_page()\n"
   ]
  },
  {
   "cell_type": "code",
   "execution_count": 35,
   "id": "040671cb",
   "metadata": {},
   "outputs": [
    {
     "name": "stdout",
     "output_type": "stream",
     "text": [
      "Enter the character: t\n",
      "False\n"
     ]
    }
   ],
   "source": [
    "#  13. Write a Python program to find if a given string starts with a given character using Lambda.\n",
    "            # Sample input: input_string = \"Hello, World!\", given_char = \"H\"\n",
    "            # Sample Output: True\n",
    "\n",
    "first_char = lambda sent,k:sent[0]==k\n",
    "\n",
    "sent = 'Hello, World!'\n",
    "k = input(\"Enter the character: \")\n",
    "result = first_char(sent,k)\n",
    "print(result)"
   ]
  },
  {
   "cell_type": "code",
   "execution_count": 1,
   "id": "5cb18aca",
   "metadata": {},
   "outputs": [],
   "source": [
    "#--------------------------------------------------Level 3--------------------------------------------------------------"
   ]
  },
  {
   "cell_type": "code",
   "execution_count": 5,
   "id": "1ba10bde",
   "metadata": {},
   "outputs": [
    {
     "name": "stdout",
     "output_type": "stream",
     "text": [
      "['am', 'file']\n"
     ]
    }
   ],
   "source": [
    "#1.Read the doc.txt file using Python File handling concept and return only the even length string from the file. \n",
    "#  Consider the content of doc.txt as given below:\n",
    "#      Hello I am a file\n",
    "#  Where you need to return the data string which is of even length.\n",
    "#  Make sure you return the content in The same link as it is present.\n",
    "\n",
    "def even_string(file_path):\n",
    "     list_even_words=[]\n",
    "     with open(file_path, 'r') as f:\n",
    "        lines = f.readlines()\n",
    "        for line in lines:\n",
    "            words = line.split()\n",
    "            for word in words:\n",
    "                l = len(word)\n",
    "                if l%2==0:\n",
    "                    list_even_words.append(word)\n",
    "     return list_even_words\n",
    "\n",
    "file_path = r\"C:\\Users\\reesa\\OneDrive\\Desktop\\Consultadd\\Assignments\\doc.txt\"\n",
    "evenLength_doc = even_string(file_path)\n",
    "print(evenLength_doc)"
   ]
  },
  {
   "cell_type": "code",
   "execution_count": 10,
   "id": "2e66f4fb",
   "metadata": {},
   "outputs": [
    {
     "name": "stdout",
     "output_type": "stream",
     "text": [
      "Number of lines:  6\n"
     ]
    }
   ],
   "source": [
    "#2. Write a program to count the lines in a file “demo.txt”\n",
    "\n",
    "def line_count(file_path):\n",
    "    count = 0\n",
    "    with open(file_path,'r') as f:\n",
    "        lines = f.readlines()\n",
    "        for line in lines:\n",
    "            count+=1\n",
    "    return count\n",
    "\n",
    "file_path = r\"C:\\Users\\reesa\\OneDrive\\Desktop\\Consultadd\\Assignments\\demo.txt\"\n",
    "num_lines = line_count(file_path)\n",
    "print(\"Number of lines: \", num_lines)\n"
   ]
  },
  {
   "cell_type": "code",
   "execution_count": 24,
   "id": "37f108a0",
   "metadata": {},
   "outputs": [
    {
     "name": "stdout",
     "output_type": "stream",
     "text": [
      "I am aaa.\n",
      "\n",
      "Iacab\n",
      "\n",
      "Iames \n",
      "\n"
     ]
    }
   ],
   "source": [
    "#  3. Aditi has used text editing software to type some text. \n",
    "#     After saving the article as words.txt, she realized that she had wrongly typed the alphabet “J\" \n",
    "#     instead of “I\" everywhere in the article.\n",
    "#  Write a function definition for JtoI() in Python that would display the corrected version of the \n",
    "#  entire content of the file WORDS.TXT with all the alphabet \"J\" to be displayed as an alphabet \"I\" on the screen.\n",
    "#    Note: Assume that words.txt does not contain any J alphabet otherwise.\n",
    "\n",
    "def JtoI(file_path):\n",
    "    edited_line=''\n",
    "    with open(file_path,'r') as f:\n",
    "        for line in f:\n",
    "            edited_line += line.replace('J','I')\n",
    "    return edited_line\n",
    "\n",
    "file_path = r\"C:\\Users\\reesa\\OneDrive\\Desktop\\Consultadd\\Assignments\\words.txt\"\n",
    "edited_file = JtoI(file_path)\n",
    "print(edited_file)"
   ]
  },
  {
   "cell_type": "code",
   "execution_count": 32,
   "id": "219a4b07",
   "metadata": {},
   "outputs": [
    {
     "name": "stdout",
     "output_type": "stream",
     "text": [
      "The Shape:  0\n",
      "The area of the Square:  64\n"
     ]
    }
   ],
   "source": [
    "#4 Define a class named Shape and its subclass Square. The Square class has an init function\n",
    "#  which takes length as argument. Both classes have an area function which can print the area of the\n",
    "#  shape where Shape’s area is 0 by default.\n",
    "\n",
    "class Shape:\n",
    "    def area(self):\n",
    "        return 0\n",
    "    \n",
    "class Square(Shape):\n",
    "    \n",
    "    def __init__(self,length):\n",
    "        self.length = length\n",
    "    \n",
    "    def area(self):\n",
    "       \n",
    "        area_sq = self.length *self.length \n",
    "        return area_sq\n",
    "    \n",
    "shape = Shape()\n",
    "square = Square(8)\n",
    "print(\"The Shape: \", shape.area())\n",
    "print(\"The area of the Square: \", square.area())"
   ]
  },
  {
   "cell_type": "code",
   "execution_count": 38,
   "id": "2085daa9",
   "metadata": {},
   "outputs": [
    {
     "name": "stdout",
     "output_type": "stream",
     "text": [
      "Time 1:\n",
      "2 hrs and 50 min\n",
      "Total Minutes: 170\n",
      "Time 2:\n",
      "1 hrs and 20 min\n",
      "Total Minutes: 80\n",
      "Total Time\n",
      "4 hrs and 10 min\n",
      "Total Minutes: 250\n"
     ]
    }
   ],
   "source": [
    "# 5. Create a class 'Time' and initialize it with hours and minutes. \n",
    "#    Create a method addTime() which should take two Time objects and add them.\n",
    "#           E.g.- (2 hour and 50 min)+(1 hr and 20 min) is (4 hr and 10 min)\n",
    "#    Create another method displayTime() which should print the time.\n",
    "#    Also, create a method displayMinute() which should display the total minutes in the Time.\n",
    "#           E.g.- (1 hr 2 min) should display 62 minutes.\n",
    "class Time:\n",
    "    def __init__(self, hours, minutes):\n",
    "        self.hours = hours\n",
    "        self.minutes = minutes\n",
    "\n",
    "    def addTime(self, t):\n",
    "        total_hours = self.hours + t.hours\n",
    "        total_minutes = self.minutes + t.minutes\n",
    "\n",
    "        while total_minutes >= 60:\n",
    "            total_hours += 1\n",
    "            total_minutes -= 60\n",
    "\n",
    "        return Time(total_hours, total_minutes)\n",
    "\n",
    "    def displayTime(self):\n",
    "        print(self.hours, \"hrs and\", self.minutes, \"min\")\n",
    "\n",
    "    def displayMinute(self):\n",
    "        total_minutes = self.hours * 60 + self.minutes\n",
    "        print(\"Total Minutes:\", total_minutes)\n",
    "\n",
    "# Example usage:\n",
    "time1 = Time(2, 50)\n",
    "time2 = Time(1, 20)\n",
    "\n",
    "print(\"Time 1:\")\n",
    "time1.displayTime()\n",
    "time1.displayMinute()\n",
    "\n",
    "print(\"Time 2:\")\n",
    "time2.displayTime()\n",
    "time2.displayMinute()\n",
    "\n",
    "print(\"Total Time\")\n",
    "sum_time = time1.addTime(time2)\n",
    "sum_time.displayTime()\n",
    "sum_time.displayMinute()"
   ]
  },
  {
   "cell_type": "code",
   "execution_count": 52,
   "id": "6eac057f",
   "metadata": {},
   "outputs": [
    {
     "name": "stdout",
     "output_type": "stream",
     "text": [
      "Child constructor\n",
      "Parent constructor\n",
      "Fourth Constructor\n",
      "Parent constructor\n"
     ]
    }
   ],
   "source": [
    "#6. Create the custom Python classes which have methods and attributes and implement single inheritance, multiple \n",
    "#   inheritance, and multilevel inheritance\n",
    "\n",
    "class Parent:\n",
    "    def __init__(self):\n",
    "        print(\"Parent constructor\")\n",
    "        \n",
    "class Child(Parent):\n",
    "    def __init__(self):\n",
    "        print(\"Child constructor\")\n",
    "        super().__init__()\n",
    "        \n",
    "class Third(Child):\n",
    "    def __init__(self):\n",
    "        print(\"Third Constructor\")\n",
    "        super().__init__()\n",
    "        \n",
    "class Fourth(Parent):\n",
    "    def __init__(self):\n",
    "        print(\"Fourth Constructor\")\n",
    "        super().__init__()\n",
    "        \n",
    "#Single Inheritance       \n",
    "child1=Child()\n",
    "#Multilevel Inheritance\n",
    "third=Third()\n",
    "#Multiple Inheritance\n",
    "fourth = Fourth()"
   ]
  },
  {
   "cell_type": "code",
   "execution_count": 48,
   "id": "fc94422f",
   "metadata": {},
   "outputs": [
    {
     "name": "stdout",
     "output_type": "stream",
     "text": [
      "{'Sam': 'Commerce', 'Alice': 'Science', 'Mona': 'Computer'}\n"
     ]
    }
   ],
   "source": [
    "# 7. Write a program to construct a dictionary from the two lists containing the names of students and their corresponding\n",
    "#    subjects. The dictionary should map the students with their respective subjects. \n",
    "#    Let’s see how to do this using for loops and dictionary comprehension.\n",
    "#               Input: [Sam, Alice, Mona] ,\n",
    "#                      [Commerce, Science, Computer]\n",
    "#               Output: [Sam: Commerce, Alice: Science , Mona: Computer]\n",
    "\n",
    "names = ['Sam','Alice','Mona']\n",
    "subs = ['Commerce','Science','Computer']\n",
    "\n",
    "dict={}\n",
    "\n",
    "#for n, s in zip(names, subs):\n",
    "#    dict[n]=s\n",
    "\n",
    "dict = {n:s for n,s in zip(names,subs) }\n",
    "print(dict)"
   ]
  },
  {
   "cell_type": "code",
   "execution_count": 74,
   "id": "f67d4491",
   "metadata": {},
   "outputs": [
    {
     "name": "stdout",
     "output_type": "stream",
     "text": [
      "{'first_name': 'Jacob', 'last_name': 'Joseph', 'id': '5623'}\n"
     ]
    }
   ],
   "source": [
    "# 8. You need to write a function that accepts an encoded string as a parameter.\n",
    "#    This string will contain a first name, last name, and an id. Values in the string can be separated by any number of zeros.\n",
    "#    The id is a numeric value but will contain no zeros. The function should parse the string \n",
    "#    and return a Python dictionary that contains the first name, last name, and id values.\n",
    "#     For example:\n",
    "#                Input : “Robert000Smith000123”\n",
    "#                Output:\n",
    "#                       { “first_name”: “Robert”, “last_name”: “Smith”, “id”: “123” }\n",
    "\n",
    "\n",
    "input_st = \"Jacob00000Joseph000005623\"\n",
    "name=[]\n",
    "temp=''\n",
    "dict={}\n",
    "for char in input_st:\n",
    "    if char!='0':\n",
    "        temp+=char\n",
    "    else:\n",
    "      if temp:\n",
    "         name.append(temp)\n",
    "         temp=''\n",
    "if temp:\n",
    "        name.append(temp)\n",
    "    \n",
    "dict={'first_name': name[0],'last_name':name[1],'id':name[2] }\n",
    "    \n",
    "print(dict)"
   ]
  },
  {
   "cell_type": "code",
   "execution_count": 86,
   "id": "8b405558",
   "metadata": {},
   "outputs": [
    {
     "name": "stdout",
     "output_type": "stream",
     "text": [
      "Input: wwwwaaadebbbbbw\n",
      "Output: w4a3d1e1b5w1\n"
     ]
    }
   ],
   "source": [
    "# 9. Given an input string, write a function that returns the run length encoded string for the input string.\n",
    "# For Example:        Input: wwwwaaadebbbbbw\n",
    "#                     Output: w4a3d1e1b5w1\n",
    "def find_count(input_str):\n",
    "    encoded_string = \"\"\n",
    "    count = 1\n",
    "\n",
    "    for i in range(1, len(input_str)):\n",
    "        if input_str[i] == input_str[i - 1]:\n",
    "            count += 1\n",
    "        else:\n",
    "            encoded_string += input_str[i - 1] + str(count)\n",
    "            count = 1\n",
    "\n",
    "    encoded_string += input_str[-1] + str(count)\n",
    "    return encoded_string\n",
    "\n",
    "input_str = 'wwwwaaadebbbbbw'\n",
    "encoded_string = run_length_encoding(input_str)\n",
    "print(\"Input:\", input_str)\n",
    "print(\"Output:\", encoded_str)\n"
   ]
  },
  {
   "cell_type": "code",
   "execution_count": 46,
   "id": "d87d9f5f",
   "metadata": {},
   "outputs": [
    {
     "name": "stdout",
     "output_type": "stream",
     "text": [
      "2\n",
      "1\n"
     ]
    }
   ],
   "source": [
    "# 10. A cafe has N computers. Several customers come to the cafe to use these computers. \n",
    "#    A customer will be serviced only if there is any unoccupied computer at the moment the customer visits the\n",
    "#    cafe. If there is no unoccupied computer, the customer leaves the cafe.\n",
    "#You are given an integer N representing the number of computers in the cafe and a sequence of uppercase letters S. \n",
    "#Every letter in S occurs exactly two times. The first occurrence denotes the arrival of a customer \n",
    "# and the second occurrence denotes the departure of the same customer if he gets allocated the computer.\n",
    "#You have to find the number of customers that walked away without using a computer.\n",
    "     #  Example 1:\n",
    "     #     Input:\n",
    "     #           N = 3\n",
    "     #           S = GACCBDDBAGEE\n",
    "     #     Output: 1\n",
    "                 #Explanation: Only D will not be able to get any computer. So the\n",
    "#                 answer is 1.\n",
    "#       Example 2:\n",
    "#          Input:\n",
    "#                    N = 1\n",
    "#                    S = ABCBAC\n",
    "#                    Output: 2\n",
    "#Explanation: B and C will not be able to get any computers. So the answer is 2.\n",
    "\n",
    "\n",
    "def calculate_walk_away(N, S):\n",
    "    stack = []\n",
    "    no_access=[]\n",
    "    \n",
    "    for char in S:\n",
    "        if char not in stack:\n",
    "            if len(stack) < N:\n",
    "                stack.append(char)\n",
    "            else:\n",
    "                no_access.append(char)\n",
    "        else:\n",
    "            stack.remove(char)\n",
    "    went_away = set(no_access)\n",
    "    return len(went_away)\n",
    "\n",
    "\n",
    "N1 = 1\n",
    "S1 = \"ABCBAC\"\n",
    "print(calculate_walk_away(N1, S1))  \n",
    "\n",
    "N2 = 3\n",
    "S2 = \"GACCBDDBAGEE\"\n",
    "print(calculate_walk_away(N2, S2)) "
   ]
  },
  {
   "cell_type": "code",
   "execution_count": null,
   "id": "cd3787d6",
   "metadata": {},
   "outputs": [],
   "source": [
    "#-----------------------------------------------------------------------------------------------------------------------"
   ]
  }
 ],
 "metadata": {
  "kernelspec": {
   "display_name": "Python 3 (ipykernel)",
   "language": "python",
   "name": "python3"
  },
  "language_info": {
   "codemirror_mode": {
    "name": "ipython",
    "version": 3
   },
   "file_extension": ".py",
   "mimetype": "text/x-python",
   "name": "python",
   "nbconvert_exporter": "python",
   "pygments_lexer": "ipython3",
   "version": "3.9.13"
  }
 },
 "nbformat": 4,
 "nbformat_minor": 5
}
